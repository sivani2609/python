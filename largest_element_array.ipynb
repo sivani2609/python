{
 "cells": [
  {
   "cell_type": "code",
   "execution_count": null,
   "id": "8a869aa3",
   "metadata": {},
   "outputs": [],
   "source": [
    "# Find largest element in an array\n",
    "numbers = [12, 24, 36, 48, 60, 77, 34, 23]\n",
    "\n",
    "# Assume the first element is the largest initially\n",
    "largest = numbers[0]\n",
    "\n",
    "# Loop through the rest of the list\n",
    "for i in range(1, len(numbers)):\n",
    "    if numbers[i] > largest:\n",
    "        largest = numbers[i]\n",
    "\n",
    "print(\"Largest element:\", largest)\n"
   ]
  }
 ],
 "metadata": {
  "language_info": {
   "name": "python"
  }
 },
 "nbformat": 4,
 "nbformat_minor": 5
}
