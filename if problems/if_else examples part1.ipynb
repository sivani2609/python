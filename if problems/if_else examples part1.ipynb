{
 "cells": [
  {
   "cell_type": "code",
   "execution_count": 10,
   "metadata": {},
   "outputs": [
    {
     "name": "stdout",
     "output_type": "stream",
     "text": [
      "fail\n"
     ]
    }
   ],
   "source": [
    "mark = int(input())\n",
    "if(mark > 35):\n",
    "    print(\"pass\")\n",
    "else:\n",
    "    print(\"fail\")"
   ]
  },
  {
   "cell_type": "code",
   "execution_count": 11,
   "metadata": {},
   "outputs": [
    {
     "name": "stdout",
     "output_type": "stream",
     "text": [
      "not eligible for scholarship\n"
     ]
    }
   ],
   "source": [
    "income=int(input(\"income:\"))\n",
    "if(income>7500):\n",
    "    print(\"scholarship is available\")\n",
    "else:\n",
    "    print(\"not eligible for scholarship\")"
   ]
  },
  {
   "cell_type": "code",
   "execution_count": 16,
   "metadata": {},
   "outputs": [
    {
     "name": "stdout",
     "output_type": "stream",
     "text": [
      "the number is not divisible by 3 and 5\n"
     ]
    }
   ],
   "source": [
    "num=int(input())\n",
    "if(num%15 == 0):\n",
    "    print(\"the number is divisible by 3 and 5\")\n",
    "else:\n",
    "    print(\"the number is not divisible by 3 and 5\")\n",
    "    "
   ]
  },
  {
   "cell_type": "code",
   "execution_count": 18,
   "metadata": {},
   "outputs": [
    {
     "name": "stdout",
     "output_type": "stream",
     "text": [
      "the number is not divisible by 3 and 5\n"
     ]
    }
   ],
   "source": [
    "num=int(input())\n",
    "if((num%3 and num%5) == 0):\n",
    "    print(\"the number is divisible by 3 and 5\")\n",
    "else:\n",
    "    print(\"the number is not divisible by 3 and 5\")"
   ]
  }
 ],
 "metadata": {
  "kernelspec": {
   "display_name": "Python 3",
   "language": "python",
   "name": "python3"
  },
  "language_info": {
   "codemirror_mode": {
    "name": "ipython",
    "version": 3
   },
   "file_extension": ".py",
   "mimetype": "text/x-python",
   "name": "python",
   "nbconvert_exporter": "python",
   "pygments_lexer": "ipython3",
   "version": "3.13.1"
  },
  "orig_nbformat": 4
 },
 "nbformat": 4,
 "nbformat_minor": 2
}
