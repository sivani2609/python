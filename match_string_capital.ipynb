{
 "cells": [
  {
   "cell_type": "code",
   "execution_count": null,
   "id": "e7d461e4",
   "metadata": {},
   "outputs": [],
   "source": [
    "def main():\n",
    "    inp1 = \"fi_er\"\n",
    "    inp2 = \"Fever:Filer:Filter:FIxer:Fiber:Fibre:Tailor:Offer\"\n",
    "    words = inp2.split(\":\")\n",
    "\n",
    "    for word in words:\n",
    "        if len(inp1) == len(word):\n",
    "            match = True\n",
    "\n",
    "            for j in range(len(inp1)):\n",
    "                a = inp1[j].lower()\n",
    "                b = word[j].lower()\n",
    "\n",
    "                if a != '_' and a != b:\n",
    "                    match = False\n",
    "                    break\n",
    "\n",
    "            if match:\n",
    "                # Capitalize first letter, rest lowercase\n",
    "                capital = word[0].upper() + word[1:].lower()\n",
    "                print(capital)\n",
    "\n",
    "\n",
    "if __name__ == \"__main__\":\n",
    "    main()\n"
   ]
  }
 ],
 "metadata": {
  "language_info": {
   "name": "python"
  }
 },
 "nbformat": 4,
 "nbformat_minor": 5
}
