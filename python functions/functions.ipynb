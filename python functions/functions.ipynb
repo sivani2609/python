{
 "cells": [
  {
   "cell_type": "code",
   "execution_count": 1,
   "metadata": {},
   "outputs": [
    {
     "name": "stdout",
     "output_type": "stream",
     "text": [
      "painting\n"
     ]
    }
   ],
   "source": [
    "def painting():\n",
    "    print(\"painting\")\n",
    "painting()"
   ]
  },
  {
   "cell_type": "code",
   "execution_count": 4,
   "metadata": {},
   "outputs": [
    {
     "name": "stdout",
     "output_type": "stream",
     "text": [
      "add: 5\n",
      "sub: -1\n",
      "mul: 6\n",
      "div: 0.5\n"
     ]
    }
   ],
   "source": [
    "\n",
    "def add():\n",
    "    a= int(input(\"enter a:\"))\n",
    "    b= int(input(\"enter b:\"))\n",
    "    print(\"add:\",a+b)\n",
    "def sub():\n",
    "    a= int(input(\"enter a:\"))\n",
    "    b= int(input(\"enter b:\"))\n",
    "    print(\"sub:\",a-b)\n",
    "def mul():\n",
    "    a= int(input(\"enter a:\"))\n",
    "    b= int(input(\"enter b:\"))\n",
    "    print(\"mul:\",a*b)\n",
    "def div():\n",
    "    a= int(input(\"enter a:\"))\n",
    "    b= int(input(\"enter b:\"))\n",
    "    print(\"div:\",a/b)\n",
    "\n",
    "add()\n",
    "sub()\n",
    "mul()\n",
    "div()"
   ]
  },
  {
   "cell_type": "code",
   "execution_count": 1,
   "metadata": {},
   "outputs": [
    {
     "name": "stdout",
     "output_type": "stream",
     "text": [
      "odd\n"
     ]
    }
   ],
   "source": [
    "def evenorodd(num):\n",
    "    num=int(input(\"enter number\"))\n",
    "    if(num%2 == 0):\n",
    "        print(\"even\")\n",
    "    else:\n",
    "        print(\"odd\")\n",
    "\n",
    "evenorodd()"
   ]
  },
  {
   "cell_type": "code",
   "execution_count": 6,
   "metadata": {},
   "outputs": [
    {
     "name": "stdout",
     "output_type": "stream",
     "text": [
      "even\n"
     ]
    }
   ],
   "source": [
    "def evenorodd(num):\n",
    "    num =10\n",
    "    if(num%2 == 0):\n",
    "        print(\"even\")\n",
    "    else:\n",
    "        print(\"odd\")\n",
    "n=10\n",
    "evenorodd(n)"
   ]
  },
  {
   "cell_type": "code",
   "execution_count": 4,
   "metadata": {},
   "outputs": [
    {
     "name": "stdout",
     "output_type": "stream",
     "text": [
      "5\n",
      "6\n",
      "7\n",
      "8\n"
     ]
    }
   ],
   "source": [
    "def printrange(r1,r2):\n",
    "    for i in range(r1,r2):\n",
    "          print(i)\n",
    "\n",
    "a = int(input(\"enter a\"))\n",
    "b = int(input(\"enter b\"))\n",
    "\n",
    "printrange(a,b)"
   ]
  }
 ],
 "metadata": {
  "kernelspec": {
   "display_name": "Python 3",
   "language": "python",
   "name": "python3"
  },
  "language_info": {
   "codemirror_mode": {
    "name": "ipython",
    "version": 3
   },
   "file_extension": ".py",
   "mimetype": "text/x-python",
   "name": "python",
   "nbconvert_exporter": "python",
   "pygments_lexer": "ipython3",
   "version": "3.13.1"
  },
  "orig_nbformat": 4
 },
 "nbformat": 4,
 "nbformat_minor": 2
}
