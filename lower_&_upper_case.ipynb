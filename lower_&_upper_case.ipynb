{
 "cells": [
  {
   "cell_type": "code",
   "execution_count": null,
   "id": "c6ec9b58",
   "metadata": {},
   "outputs": [],
   "source": [
    "# Original string\n",
    "s = \"helloworld\"\n",
    "\n",
    "# Find the midpoint\n",
    "n = len(s) // 2\n",
    "\n",
    "# Split and change case\n",
    "first = s[:n].lower()    # first half to lowercase\n",
    "last = s[n:].upper()     # second half to uppercase\n",
    "\n",
    "# Concatenate\n",
    "result = first + last\n",
    "\n",
    "# Print the result\n",
    "print(result)\n"
   ]
  }
 ],
 "metadata": {
  "language_info": {
   "name": "python"
  }
 },
 "nbformat": 4,
 "nbformat_minor": 5
}
