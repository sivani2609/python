{
 "cells": [
  {
   "cell_type": "code",
   "execution_count": null,
   "id": "7e7f680e",
   "metadata": {},
   "outputs": [],
   "source": [
    "def first_repeated_char(s):\n",
    "    visited = [False] * len(s)\n",
    "    \n",
    "    for i in range(len(s)):\n",
    "        if visited[i]:\n",
    "            continue\n",
    "        for j in range(i + 1, len(s)):\n",
    "            if s[i] == s[j]:\n",
    "                visited[j] = True\n",
    "                print(\"First repeated character:\", s[i])\n",
    "                return\n",
    "    print(\"Not found\")\n",
    "\n",
    "# Example usage\n",
    "first_repeated_char(\"ababa\")\n"
   ]
  }
 ],
 "metadata": {
  "language_info": {
   "name": "python"
  }
 },
 "nbformat": 4,
 "nbformat_minor": 5
}
