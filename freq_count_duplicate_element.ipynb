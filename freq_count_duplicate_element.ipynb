{
 "cells": [
  {
   "cell_type": "code",
   "execution_count": null,
   "id": "be36730d",
   "metadata": {},
   "outputs": [],
   "source": [
    "# Finding Frequency of Duplicate elements in an array\n",
    "# Input : arr = [10, 20, 20, 10, 10, 20, 5, 20]\n",
    "# Output: \n",
    "# 10  3\n",
    "# 20  4\n",
    "\n",
    "arr = [10, 20, 20, 10, 10, 20, 5, 20]\n",
    "visit = [False] * len(arr)\n",
    "\n",
    "for i in range(len(arr)):\n",
    "    if visit[i]:\n",
    "        continue\n",
    "    count = 1\n",
    "    for j in range(i + 1, len(arr)):\n",
    "        if arr[i] == arr[j]:\n",
    "            count += 1\n",
    "            visit[j] = True\n",
    "    if count > 1:\n",
    "        print(arr[i], count)\n"
   ]
  }
 ],
 "metadata": {
  "language_info": {
   "name": "python"
  }
 },
 "nbformat": 4,
 "nbformat_minor": 5
}
