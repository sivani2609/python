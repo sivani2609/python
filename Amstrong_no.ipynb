{
 "cells": [
  {
   "cell_type": "code",
   "execution_count": null,
   "id": "d966ee85",
   "metadata": {},
   "outputs": [],
   "source": [
    "# Function to check if a number is Armstrong\n",
    "def is_armstrong(number):\n",
    "    num_str = str(number)\n",
    "    power = len(num_str)\n",
    "    total = sum(int(digit) ** power for digit in num_str)\n",
    "    return number == total\n",
    "\n",
    "# Test\n",
    "num = int(input(\"Enter a number: \"))\n",
    "if is_armstrong(num):\n",
    "    print(f\"{num} is an Armstrong number.\")\n",
    "else:\n",
    "    print(f\"{num} is NOT an Armstrong number.\")\n"
   ]
  }
 ],
 "metadata": {
  "language_info": {
   "name": "python"
  }
 },
 "nbformat": 4,
 "nbformat_minor": 5
}
