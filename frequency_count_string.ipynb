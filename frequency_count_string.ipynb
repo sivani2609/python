{
 "cells": [
  {
   "cell_type": "code",
   "execution_count": null,
   "id": "d58a4e6c",
   "metadata": {},
   "outputs": [],
   "source": [
    "str_val = \"repeatable\"\n",
    "length = len(str_val)\n",
    "visit = [False] * length\n",
    "ch = [''] * length\n",
    "freq = [0] * length\n",
    "k = 0\n",
    "\n",
    "# Counting frequencies\n",
    "for i in range(length):\n",
    "    if visit[i]:\n",
    "        continue\n",
    "    count = 1\n",
    "    for j in range(i + 1, length):\n",
    "        if str_val[i] == str_val[j]:\n",
    "            count += 1\n",
    "            visit[j] = True\n",
    "    ch[k] = str_val[i]\n",
    "    freq[k] = count\n",
    "    k += 1\n",
    "\n",
    "# Sorting by frequency (descending)\n",
    "for i in range(k - 1):\n",
    "    for j in range(i + 1, k):\n",
    "        if freq[i] < freq[j]:\n",
    "            freq[i], freq[j] = freq[j], freq[i]\n",
    "            ch[i], ch[j] = ch[j], ch[i]\n",
    "\n",
    "# Output\n",
    "for i in range(k):\n",
    "    print(f\"{ch[i]} -- {freq[i]}\")\n"
   ]
  }
 ],
 "metadata": {
  "language_info": {
   "name": "python"
  }
 },
 "nbformat": 4,
 "nbformat_minor": 5
}
