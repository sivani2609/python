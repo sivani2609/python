{
 "cells": [
  {
   "cell_type": "code",
   "execution_count": null,
   "id": "8de4d0ee",
   "metadata": {},
   "outputs": [],
   "source": [
    "str_val = \"5ingt44t3\"\n",
    "total = 0\n",
    "num = \"\"\n",
    "\n",
    "print(str_val)\n",
    "\n",
    "for ch in str_val:\n",
    "    if ch.isdigit():\n",
    "        num += ch\n",
    "    else:\n",
    "        if num:\n",
    "            total += int(num)\n",
    "            num = \"\"\n",
    "\n",
    "if num:\n",
    "    total += int(num)\n",
    "\n",
    "print(total)\n"
   ]
  }
 ],
 "metadata": {
  "language_info": {
   "name": "python"
  }
 },
 "nbformat": 4,
 "nbformat_minor": 5
}
