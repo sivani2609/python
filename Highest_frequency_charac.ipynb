{
 "cells": [
  {
   "cell_type": "code",
   "execution_count": null,
   "id": "c559f803",
   "metadata": {},
   "outputs": [],
   "source": [
    "# Highest frequency character in a String\n",
    "# Input: engineering\n",
    "# Output: e 3\n",
    "\n",
    "str_val = \"engineering\"\n",
    "max_count = 0\n",
    "max_char = ''\n",
    "\n",
    "for i in range(len(str_val)):\n",
    "    count = 1\n",
    "    for j in range(i + 1, len(str_val)):\n",
    "        if str_val[i] == str_val[j]:\n",
    "            count += 1\n",
    "    if count > max_count:\n",
    "        max_count = count\n",
    "        max_char = str_val[i]\n",
    "\n",
    "print(max_char, max_count)\n"
   ]
  }
 ],
 "metadata": {
  "language_info": {
   "name": "python"
  }
 },
 "nbformat": 4,
 "nbformat_minor": 5
}
