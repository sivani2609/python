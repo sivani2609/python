{
 "cells": [
  {
   "cell_type": "code",
   "execution_count": null,
   "id": "586ecdb7",
   "metadata": {},
   "outputs": [],
   "source": [
    "# Calculate CGST and SGST for a product and print the total price to pay\n",
    "# CGST = 9%, SGST = 11%\n",
    "\n",
    "bill_amount = float(input(\"Enter the bill amount to pay: \"))\n",
    "\n",
    "sgst_rate = 9.0\n",
    "cgst_rate = 11.0\n",
    "\n",
    "cgst = (cgst_rate / 100) * bill_amount\n",
    "sgst = (sgst_rate / 100) * bill_amount\n",
    "\n",
    "total_amount = bill_amount + cgst + sgst\n",
    "\n",
    "print(\"CGST:\", cgst)\n",
    "print(\"SGST:\", sgst)\n",
    "print(\"Total amount is:\", total_amount)\n"
   ]
  }
 ],
 "metadata": {
  "language_info": {
   "name": "python"
  }
 },
 "nbformat": 4,
 "nbformat_minor": 5
}
