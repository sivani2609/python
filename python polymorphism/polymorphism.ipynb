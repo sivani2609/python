{
 "cells": [
  {
   "cell_type": "code",
   "execution_count": 10,
   "metadata": {},
   "outputs": [
    {
     "name": "stdout",
     "output_type": "stream",
     "text": [
      "83\n",
      "60\n"
     ]
    }
   ],
   "source": [
    "def add(a,b,c=80):\n",
    "    print(a+b+c)\n",
    "\n",
    "add(1,2)\n",
    "add(10,20,30)"
   ]
  },
  {
   "cell_type": "code",
   "execution_count": 5,
   "metadata": {},
   "outputs": [
    {
     "name": "stdout",
     "output_type": "stream",
     "text": [
      "50\n"
     ]
    }
   ],
   "source": [
    "def add(a=10):\n",
    "    print(a)\n",
    "\n",
    "add(50)"
   ]
  },
  {
   "cell_type": "code",
   "execution_count": 17,
   "metadata": {},
   "outputs": [
    {
     "name": "stdout",
     "output_type": "stream",
     "text": [
      "animal makes sound\n",
      "dog barks\n",
      "bird sings\n"
     ]
    }
   ],
   "source": [
    "class animal():\n",
    "    def sound(self):\n",
    "        print(\"animal makes sound\")\n",
    "\n",
    "class dog(animal):\n",
    "    def sound(self):\n",
    "        print(\"dog barks\")\n",
    "\n",
    "class bird(animal):\n",
    "    def sound(self):\n",
    "        print(\"bird sings\")\n",
    "\n",
    "a1=animal()\n",
    "a1.sound()\n",
    "d1=dog()\n",
    "d1.sound()\n",
    "b1=bird()\n",
    "b1.sound()\n"
   ]
  }
 ],
 "metadata": {
  "kernelspec": {
   "display_name": "Python 3",
   "language": "python",
   "name": "python3"
  },
  "language_info": {
   "codemirror_mode": {
    "name": "ipython",
    "version": 3
   },
   "file_extension": ".py",
   "mimetype": "text/x-python",
   "name": "python",
   "nbconvert_exporter": "python",
   "pygments_lexer": "ipython3",
   "version": "3.13.1"
  },
  "orig_nbformat": 4
 },
 "nbformat": 4,
 "nbformat_minor": 2
}
