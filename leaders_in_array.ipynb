{
 "cells": [
  {
   "cell_type": "code",
   "execution_count": null,
   "id": "b0405b7a",
   "metadata": {},
   "outputs": [],
   "source": [
    "# Leaders in an Array\n",
    "\n",
    "arr = [16, 17, 4, 3, 5, 2]\n",
    "\n",
    "for i in range(len(arr)):\n",
    "    is_leader = True\n",
    "    # Check elements to the right of arr[i]\n",
    "    for j in range(i + 1, len(arr)):\n",
    "        if arr[i] < arr[j]:\n",
    "            is_leader = False\n",
    "            break\n",
    "    if is_leader:\n",
    "        print(arr[i], end=\" \")\n"
   ]
  }
 ],
 "metadata": {
  "language_info": {
   "name": "python"
  }
 },
 "nbformat": 4,
 "nbformat_minor": 5
}
