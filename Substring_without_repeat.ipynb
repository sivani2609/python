{
 "cells": [
  {
   "cell_type": "code",
   "execution_count": null,
   "id": "2c3dd740",
   "metadata": {},
   "outputs": [],
   "source": [
    "# Longest substring without repeating characters\n",
    "\n",
    "a = \"abcdefabcbb\"\n",
    "max_len = 0\n",
    "\n",
    "for i in range(len(a)):\n",
    "    visited = [False] * 256   # To track ASCII characters\n",
    "    count = 0\n",
    "    for j in range(i, len(a)):\n",
    "        ch = a[j]\n",
    "        if visited[ord(ch)]:   # If character already visited\n",
    "            break             # stop the current substring check\n",
    "        else:\n",
    "            count += 1\n",
    "            visited[ord(ch)] = True\n",
    "            if count > max_len:\n",
    "                max_len = count\n",
    "\n",
    "print(max_len)\n"
   ]
  }
 ],
 "metadata": {
  "language_info": {
   "name": "python"
  }
 },
 "nbformat": 4,
 "nbformat_minor": 5
}
