{
 "cells": [
  {
   "cell_type": "code",
   "execution_count": 2,
   "metadata": {},
   "outputs": [
    {
     "name": "stdout",
     "output_type": "stream",
     "text": [
      "<function painter at 0x000002BFB60504A0>\n"
     ]
    }
   ],
   "source": [
    "def painter():\n",
    "    return \" i am a painter\"\n",
    "\n",
    "n=painter\n",
    "print(n)"
   ]
  },
  {
   "cell_type": "code",
   "execution_count": 3,
   "metadata": {},
   "outputs": [
    {
     "name": "stdout",
     "output_type": "stream",
     "text": [
      "10\n"
     ]
    }
   ],
   "source": [
    "def valueofa():\n",
    "    return 10\n",
    "\n",
    "a=valueofa()\n",
    "print(a)"
   ]
  },
  {
   "cell_type": "code",
   "execution_count": 9,
   "metadata": {},
   "outputs": [
    {
     "name": "stdout",
     "output_type": "stream",
     "text": [
      "False\n"
     ]
    }
   ],
   "source": [
    "s_username=\"EMC\"\n",
    "s_password=123\n",
    "uname=input(\"name:\")\n",
    "password=int(input(\"password:\"))\n",
    "\n",
    "def validate():\n",
    "    if(uname==s_username and s_password==password):\n",
    "        return True\n",
    "    else:\n",
    "        return False\n",
    "    \n",
    "a=validate()\n",
    "print(a)"
   ]
  },
  {
   "cell_type": "code",
   "execution_count": 12,
   "metadata": {},
   "outputs": [
    {
     "name": "stdout",
     "output_type": "stream",
     "text": [
      "sum of a and b: 5\n",
      "multiply with c : 20\n"
     ]
    }
   ],
   "source": [
    "def add(n1,n2):\n",
    "    return n1+n2\n",
    "\n",
    "a=int(input(\"enter a:\"))\n",
    "b=int(input(\"enter b:\"))\n",
    "c=int(input(\"enter c\"))\n",
    "sum=add(a,b)\n",
    "\n",
    "\n",
    "mul=sum*c\n",
    "print(\"sum of a and b:\", sum)\n",
    "print(\"multiply with c :\", mul)"
   ]
  }
 ],
 "metadata": {
  "kernelspec": {
   "display_name": "Python 3",
   "language": "python",
   "name": "python3"
  },
  "language_info": {
   "codemirror_mode": {
    "name": "ipython",
    "version": 3
   },
   "file_extension": ".py",
   "mimetype": "text/x-python",
   "name": "python",
   "nbconvert_exporter": "python",
   "pygments_lexer": "ipython3",
   "version": "3.13.1"
  },
  "orig_nbformat": 4
 },
 "nbformat": 4,
 "nbformat_minor": 2
}
