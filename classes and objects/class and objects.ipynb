{
 "cells": [
  {
   "cell_type": "code",
   "execution_count": 2,
   "metadata": {},
   "outputs": [
    {
     "name": "stdout",
     "output_type": "stream",
     "text": [
      "adhi\n",
      "adi\n"
     ]
    }
   ],
   "source": [
    "class goa:\n",
    "    name ='abhi'\n",
    "    drink  =''\n",
    "    def party(self):\n",
    "        print(\"lets party\")\n",
    "    def beach(self):\n",
    "        print(\"enjoying beach\")\n",
    "\n",
    "ramesh = goa()\n",
    "suresh = goa()\n",
    "\n",
    "\n",
    "ramesh.name = 'adhi'\n",
    "suresh.name='adi'\n",
    "print(ramesh.name)\n",
    "print(suresh.name)\n"
   ]
  },
  {
   "cell_type": "code",
   "execution_count": 8,
   "metadata": {},
   "outputs": [
    {
     "name": "stdout",
     "output_type": "stream",
     "text": [
      "50000\n",
      "40000\n"
     ]
    }
   ],
   "source": [
    "class laptop():\n",
    "    price=0\n",
    "    processor=\"\"\n",
    "    ram=\"\"\n",
    "\n",
    "hp=laptop()\n",
    "dell = laptop()\n",
    "\n",
    "hp.price=50000\n",
    "hp.processor=15\n",
    "hp.ram=\"8gb\"\n",
    "\n",
    "dell.price=40000\n",
    "dell.processor=17\n",
    "dell.ram=\"16gb\"\n",
    "\n",
    "print(hp.price)\n",
    "print(dell.price)"
   ]
  }
 ],
 "metadata": {
  "kernelspec": {
   "display_name": "Python 3",
   "language": "python",
   "name": "python3"
  },
  "language_info": {
   "codemirror_mode": {
    "name": "ipython",
    "version": 3
   },
   "file_extension": ".py",
   "mimetype": "text/x-python",
   "name": "python",
   "nbconvert_exporter": "python",
   "pygments_lexer": "ipython3",
   "version": "3.13.1"
  },
  "orig_nbformat": 4
 },
 "nbformat": 4,
 "nbformat_minor": 2
}
