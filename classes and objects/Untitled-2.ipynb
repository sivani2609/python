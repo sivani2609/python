{
 "cells": [
  {
   "cell_type": "code",
   "execution_count": 5,
   "metadata": {},
   "outputs": [
    {
     "name": "stdout",
     "output_type": "stream",
     "text": [
      "abhi\n",
      "89\n"
     ]
    },
    {
     "ename": "TypeError",
     "evalue": "student.display() takes 0 positional arguments but 1 was given",
     "output_type": "error",
     "traceback": [
      "\u001b[1;31m---------------------------------------------------------------------------\u001b[0m",
      "\u001b[1;31mTypeError\u001b[0m                                 Traceback (most recent call last)",
      "Cell \u001b[1;32mIn[5], line 12\u001b[0m\n\u001b[0;32m     10\u001b[0m \u001b[39mprint\u001b[39m(s1\u001b[39m.\u001b[39mname)\n\u001b[0;32m     11\u001b[0m \u001b[39mprint\u001b[39m(s1\u001b[39m.\u001b[39mreg_no)\n\u001b[1;32m---> 12\u001b[0m s1\u001b[39m.\u001b[39;49mdisplay()\n",
      "\u001b[1;31mTypeError\u001b[0m: student.display() takes 0 positional arguments but 1 was given"
     ]
    }
   ],
   "source": [
    "class student:\n",
    "    def __init__(self):\n",
    "        self.name=\"abhi\"\n",
    "        self.reg_no=\"89\"\n",
    "    def display():\n",
    "        print(\"name::\",self.name)\n",
    "        print(\"regno:\",self.reg_no)\n",
    "\n",
    "s1=student()\n",
    "print(s1.name)\n",
    "print(s1.reg_no)\n",
    "s1.display()\n",
    "        "
   ]
  },
  {
   "cell_type": "code",
   "execution_count": 7,
   "metadata": {},
   "outputs": [
    {
     "name": "stdout",
     "output_type": "stream",
     "text": [
      "black\n"
     ]
    }
   ],
   "source": [
    "class fruit:\n",
    "    def __init__(self):\n",
    "        self.color=\"black\"\n",
    "\n",
    "apple = fruit(5)\n",
    "print(apple.color)"
   ]
  }
 ],
 "metadata": {
  "kernelspec": {
   "display_name": "Python 3",
   "language": "python",
   "name": "python3"
  },
  "language_info": {
   "codemirror_mode": {
    "name": "ipython",
    "version": 3
   },
   "file_extension": ".py",
   "mimetype": "text/x-python",
   "name": "python",
   "nbconvert_exporter": "python",
   "pygments_lexer": "ipython3",
   "version": "3.13.1"
  },
  "orig_nbformat": 4
 },
 "nbformat": 4,
 "nbformat_minor": 2
}
