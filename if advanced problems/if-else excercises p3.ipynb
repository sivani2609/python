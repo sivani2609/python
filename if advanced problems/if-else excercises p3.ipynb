{
 "cells": [
  {
   "cell_type": "code",
   "execution_count": 4,
   "metadata": {},
   "outputs": [
    {
     "name": "stdout",
     "output_type": "stream",
     "text": [
      "you are not eligible for loan\n"
     ]
    }
   ],
   "source": [
    "salary=int(input(\"salary:\"))\n",
    "age=int(input(\"age:\"))\n",
    "if(salary>=20000 or age<=25):\n",
    "    loan=int(input(\"loan:\"))\n",
    "    if(loan<=50000):\n",
    "        print(\"you are eligible for loan\")\n",
    "    else:\n",
    "        print(\"maximum loan amount is 50000\")\n",
    "else:\n",
    "    print(\"you are not eligible for loan\")"
   ]
  },
  {
   "cell_type": "code",
   "execution_count": 2,
   "metadata": {},
   "outputs": [
    {
     "name": "stdout",
     "output_type": "stream",
     "text": [
      "34.0\n",
      "additional class is required\n"
     ]
    }
   ],
   "source": [
    "a=int(input(\"first sub:\"))\n",
    "b=int(input(\"second sub:\"))\n",
    "c=int(input(\"third sub:\"))\n",
    "d=int(input(\"fourth sub:\"))\n",
    "e=int(input(\"fivth sub:\"))\n",
    "average=(a+b+c+d+e)/5\n",
    "if(average<35):\n",
    "    print(average)\n",
    "    print(\"additional class is required\")\n",
    "else:\n",
    "    print(average)\n",
    "    print(\"you are good to go\")"
   ]
  }
 ],
 "metadata": {
  "kernelspec": {
   "display_name": "Python 3",
   "language": "python",
   "name": "python3"
  },
  "language_info": {
   "codemirror_mode": {
    "name": "ipython",
    "version": 3
   },
   "file_extension": ".py",
   "mimetype": "text/x-python",
   "name": "python",
   "nbconvert_exporter": "python",
   "pygments_lexer": "ipython3",
   "version": "3.13.1"
  },
  "orig_nbformat": 4
 },
 "nbformat": 4,
 "nbformat_minor": 2
}
