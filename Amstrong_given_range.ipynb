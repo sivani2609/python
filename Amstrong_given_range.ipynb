{
 "cells": [
  {
   "cell_type": "code",
   "execution_count": null,
   "id": "136400c9",
   "metadata": {},
   "outputs": [],
   "source": [
    "#Amstrong_given_range\n",
    "\n",
    "def is_armstrong(number):\n",
    "    digits = str(number)\n",
    "    power = len(digits)\n",
    "    total = sum(int(digit) ** power for digit in digits)\n",
    "    return total == number\n",
    "\n",
    "# Input range\n",
    "start = int(input(\"Enter start of range: \"))\n",
    "end = int(input(\"Enter end of range: \"))\n",
    "\n",
    "print(f\"Armstrong numbers between {start} and {end} are:\")\n",
    "for num in range(start, end + 1):\n",
    "    if is_armstrong(num):\n",
    "        print(num)\n"
   ]
  }
 ],
 "metadata": {
  "language_info": {
   "name": "python"
  }
 },
 "nbformat": 4,
 "nbformat_minor": 5
}
