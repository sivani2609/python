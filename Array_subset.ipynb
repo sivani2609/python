{
 "cells": [
  {
   "cell_type": "code",
   "execution_count": null,
   "id": "6bb4c961",
   "metadata": {},
   "outputs": [],
   "source": [
    "#Array_Subset\n",
    "arr1 = [1, 2, 3, 4, 5]\n",
    "arr2 = [2, 3, 4]\n",
    "\n",
    "is_subset = set(arr2).issubset(set(arr1))\n",
    "print(\"arr2 is subset of arr1:\", is_subset)\n"
   ]
  }
 ],
 "metadata": {
  "language_info": {
   "name": "python"
  }
 },
 "nbformat": 4,
 "nbformat_minor": 5
}
