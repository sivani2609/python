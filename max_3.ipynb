{
 "cells": [
  {
   "cell_type": "code",
   "execution_count": null,
   "id": "310cfd9c",
   "metadata": {},
   "outputs": [],
   "source": [
    "def max_end3(nums):\n",
    "    # Find the larger of the first and last element\n",
    "    max_val = max(nums[0], nums[2])\n",
    "    # Set all elements to that value\n",
    "    return [max_val, max_val, max_val]\n",
    "\n",
    "# Test cases\n",
    "result1 = max_end3([1, 2, 3])\n",
    "result2 = max_end3([11, 5, 9])\n",
    "result3 = max_end3([2, 11, 3])\n",
    "\n",
    "print(result1)  # [3, 3, 3]\n",
    "print(result2)  # [11, 11, 11]\n",
    "print(result3)  # [3, 3, 3]\n"
   ]
  }
 ],
 "metadata": {
  "language_info": {
   "name": "python"
  }
 },
 "nbformat": 4,
 "nbformat_minor": 5
}
