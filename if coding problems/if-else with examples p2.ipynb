{
 "cells": [
  {
   "cell_type": "code",
   "execution_count": 1,
   "metadata": {},
   "outputs": [
    {
     "name": "stdout",
     "output_type": "stream",
     "text": [
      "it is an odd number\n"
     ]
    }
   ],
   "source": [
    "number=int(input(\"number:\"))\n",
    "if(number%2) == 0:\n",
    "    print(\"it is an even number\")\n",
    "else:\n",
    "    print(\"it is an odd number\")\n",
    "    "
   ]
  },
  {
   "cell_type": "code",
   "execution_count": 6,
   "metadata": {},
   "outputs": [
    {
     "name": "stdout",
     "output_type": "stream",
     "text": [
      "invalid score\n"
     ]
    }
   ],
   "source": [
    "score=int(input())\n",
    "if score < 35:\n",
    "    print(\"poor student\")\n",
    "elif  ((score>=35) and (score<=70)):\n",
    "    print(\"average student\")\n",
    "elif(score >70 and score<100):\n",
    "    print(\"good student\")\n",
    "else:\n",
    "    print(\"invalid score\")"
   ]
  },
  {
   "cell_type": "code",
   "execution_count": 10,
   "metadata": {},
   "outputs": [
    {
     "name": "stdout",
     "output_type": "stream",
     "text": [
      "5\n"
     ]
    }
   ],
   "source": [
    "a=int(input(\"a:\"))\n",
    "b=int(input(\"b:\")) \n",
    "operation = input(\"add/sub/mul/div\")\n",
    "if(operation==\"add\"):\n",
    "    print(a+b)\n",
    "elif(operation==\"sub\"):\n",
    "    print(a-b)\n",
    "elif(operation==\"mul\"):\n",
    "    print(a*b)\n",
    "elif(operation==\"div\"):\n",
    "    print(a/b)\n",
    "else:\n",
    "    print(\"invalid input\")\n",
    "\n",
    "            "
   ]
  },
  {
   "cell_type": "code",
   "execution_count": 12,
   "metadata": {},
   "outputs": [
    {
     "name": "stdout",
     "output_type": "stream",
     "text": [
      "sivani\n",
      "it\n",
      "chennai\n",
      "you are eligible\n"
     ]
    }
   ],
   "source": [
    "score=int(input(\"score:\"))\n",
    "if(score>70):\n",
    "    name=str(input(\"name:\"))\n",
    "    department=str(input(\"dept:\"))\n",
    "    location=str(input(\"loc\"))\n",
    "    print(\"you are eligible\")\n",
    "else:\n",
    "    print(\"you are not eligible\")"
   ]
  }
 ],
 "metadata": {
  "kernelspec": {
   "display_name": "Python 3",
   "language": "python",
   "name": "python3"
  },
  "language_info": {
   "codemirror_mode": {
    "name": "ipython",
    "version": 3
   },
   "file_extension": ".py",
   "mimetype": "text/x-python",
   "name": "python",
   "nbconvert_exporter": "python",
   "pygments_lexer": "ipython3",
   "version": "3.13.1"
  },
  "orig_nbformat": 4
 },
 "nbformat": 4,
 "nbformat_minor": 2
}
