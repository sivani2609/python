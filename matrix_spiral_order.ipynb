{
 "cells": [
  {
   "cell_type": "code",
   "execution_count": null,
   "id": "bd589c18",
   "metadata": {},
   "outputs": [],
   "source": [
    "# Spiral Matrix Traversal\n",
    "def spiral_order(matrix):\n",
    "    if not matrix:\n",
    "        return []\n",
    "\n",
    "    top, bottom = 0, len(matrix) - 1\n",
    "    left, right = 0, len(matrix[0]) - 1\n",
    "    result = []\n",
    "\n",
    "    while top <= bottom and left <= right:\n",
    "        # Traverse from Left to Right\n",
    "        for j in range(left, right + 1):\n",
    "            result.append(matrix[top][j])\n",
    "        top += 1\n",
    "\n",
    "        # Traverse from Top to Bottom\n",
    "        for i in range(top, bottom + 1):\n",
    "            result.append(matrix[i][right])\n",
    "        right -= 1\n",
    "\n",
    "        # Traverse from Right to Left\n",
    "        if top <= bottom:  # check to avoid duplicate rows\n",
    "            for j in range(right, left - 1, -1):\n",
    "                result.append(matrix[bottom][j])\n",
    "            bottom -= 1\n",
    "\n",
    "        # Traverse from Bottom to Top\n",
    "        if left <= right:  # check to avoid duplicate columns\n",
    "            for i in range(bottom, top - 1, -1):\n",
    "                result.append(matrix[i][left])\n",
    "            left += 1\n",
    "\n",
    "    return result\n",
    "\n",
    "\n",
    "# Example usage\n",
    "matrix = [\n",
    "    [1, 2, 3],\n",
    "    [4, 5, 6],\n",
    "    [7, 8, 9]\n",
    "]\n",
    "\n",
    "print(spiral_order(matrix))\n"
   ]
  }
 ],
 "metadata": {
  "language_info": {
   "name": "python"
  }
 },
 "nbformat": 4,
 "nbformat_minor": 5
}
