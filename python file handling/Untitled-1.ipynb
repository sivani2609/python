{
 "cells": [
  {
   "cell_type": "code",
   "execution_count": 10,
   "metadata": {},
   "outputs": [
    {
     "name": "stdout",
     "output_type": "stream",
     "text": [
      "a\n",
      "b\n"
     ]
    }
   ],
   "source": [
    "class a():\n",
    "    def __init__(self):\n",
    "        print(\"a\")\n",
    "\n",
    "    def display(self):\n",
    "        print(\"you are in class a\")\n",
    "\n",
    "class b(a):\n",
    "    def __init__(self):\n",
    "        super().__init__()\n",
    "        print(\"b\")\n",
    "    def display(self):\n",
    "        print(\"you area in class b\")\n",
    "\n",
    "obj1=b()\n",
    "\n"
   ]
  },
  {
   "cell_type": "code",
   "execution_count": 12,
   "metadata": {},
   "outputs": [
    {
     "name": "stdout",
     "output_type": "stream",
     "text": [
      "a\n",
      "b\n",
      "c\n"
     ]
    }
   ],
   "source": [
    "class a():\n",
    "    def __init__(self):\n",
    "        print(\"a\")\n",
    "\n",
    "    def display(self):\n",
    "        print(\"you are in class a\")\n",
    "\n",
    "class b(a):\n",
    "    def __init__(self):\n",
    "        super().__init__()\n",
    "        print(\"b\")\n",
    "    def display(self):\n",
    "        print(\"you area in class b\")\n",
    "\n",
    "class c(b,a):\n",
    "    def __init__(self):\n",
    "        super().__init__()\n",
    "        print(\"c\")\n",
    "    def display(self):\n",
    "        print(\"you area in class b\")\n",
    "\n",
    "obj1=c()"
   ]
  }
 ],
 "metadata": {
  "kernelspec": {
   "display_name": "Python 3",
   "language": "python",
   "name": "python3"
  },
  "language_info": {
   "codemirror_mode": {
    "name": "ipython",
    "version": 3
   },
   "file_extension": ".py",
   "mimetype": "text/x-python",
   "name": "python",
   "nbconvert_exporter": "python",
   "pygments_lexer": "ipython3",
   "version": "3.13.1"
  },
  "orig_nbformat": 4
 },
 "nbformat": 4,
 "nbformat_minor": 2
}
