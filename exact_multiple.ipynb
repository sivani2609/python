{
 "cells": [
  {
   "cell_type": "code",
   "execution_count": null,
   "id": "840e6805",
   "metadata": {},
   "outputs": [],
   "source": [
    "# Exact Multiple Check in Python\n",
    "\n",
    "m = int(input(\"Enter M value: \"))\n",
    "n = int(input(\"Enter N value: \"))\n",
    "\n",
    "if m == 0:\n",
    "    print(\"0 is not allowed\")\n",
    "elif n % m == 0:\n",
    "    print(\"N is an exact multiple of M\")\n",
    "else:\n",
    "    print(\"N is not an exact multiple of M\")\n"
   ]
  }
 ],
 "metadata": {
  "language_info": {
   "name": "python"
  }
 },
 "nbformat": 4,
 "nbformat_minor": 5
}
