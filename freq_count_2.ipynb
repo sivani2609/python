{
 "cells": [
  {
   "cell_type": "code",
   "execution_count": null,
   "id": "27bd610c",
   "metadata": {},
   "outputs": [],
   "source": [
    "input_list = [40, 20, 10, 50, 20, 10, 30, 40]\n",
    "visited = [False] * len(input_list)\n",
    "\n",
    "for i in range(len(input_list)):\n",
    "    if visited[i]:\n",
    "        continue  # Skip already counted elements\n",
    "\n",
    "    count = 1\n",
    "    for j in range(i + 1, len(input_list)):\n",
    "        if input_list[i] == input_list[j]:\n",
    "            count += 1\n",
    "            visited[j] = True\n",
    "\n",
    "    print(f\"{input_list[i]} -> {count}\")\n"
   ]
  }
 ],
 "metadata": {
  "language_info": {
   "name": "python"
  }
 },
 "nbformat": 4,
 "nbformat_minor": 5
}
