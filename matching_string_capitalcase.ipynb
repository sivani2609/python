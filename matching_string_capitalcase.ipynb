{
 "cells": [
  {
   "cell_type": "code",
   "execution_count": null,
   "id": "928a1518",
   "metadata": {},
   "outputs": [],
   "source": [
    "# Input string\n",
    "str_input = \"apple banana mango apple grape\"\n",
    "match = \"apple\"\n",
    "\n",
    "# Split the string into words\n",
    "words = str_input.split()\n",
    "\n",
    "# Iterate and capitalize only the matching words\n",
    "for i in range(len(words)):\n",
    "    if words[i] == match:\n",
    "        words[i] = words[i][0].upper() + words[i][1:].lower()\n",
    "\n",
    "# Join the words back into a single string\n",
    "result = \" \".join(words)\n",
    "\n",
    "# Print the result\n",
    "print(result)\n"
   ]
  }
 ],
 "metadata": {
  "language_info": {
   "name": "python"
  }
 },
 "nbformat": 4,
 "nbformat_minor": 5
}
