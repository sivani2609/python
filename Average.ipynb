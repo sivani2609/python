{
 "cells": [
  {
   "cell_type": "code",
   "execution_count": null,
   "id": "fc6e2f9d",
   "metadata": {},
   "outputs": [],
   "source": [
    "num_array = [45.3, 67.5, -45.6, 20.34, 33.0, 45.6]\n",
    "sum_values = sum(num_array)\n",
    "average = sum_values / len(num_array)\n",
    "print(\"The average is: {:.2f}\".format(average))\n"
   ]
  }
 ],
 "metadata": {
  "language_info": {
   "name": "python"
  }
 },
 "nbformat": 4,
 "nbformat_minor": 5
}
