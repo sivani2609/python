{
 "cells": [
  {
   "cell_type": "code",
   "execution_count": 6,
   "metadata": {},
   "outputs": [
    {
     "name": "stdout",
     "output_type": "stream",
     "text": [
      "15\n"
     ]
    }
   ],
   "source": [
    "sum=0\n",
    "for i in range(1,6):\n",
    "    sum=sum+i\n",
    "print(sum)"
   ]
  },
  {
   "cell_type": "code",
   "execution_count": 5,
   "metadata": {},
   "outputs": [
    {
     "name": "stdout",
     "output_type": "stream",
     "text": [
      "print 10 numbers\n",
      "[10, 20, 30, 40, 50]\n",
      "150\n",
      "30.0\n"
     ]
    }
   ],
   "source": [
    "a=[]\n",
    "print(\"print 10 numbers\")\n",
    "for i in range(5):\n",
    "    num=int(input(\"enter number\"+str(i+1)))\n",
    "    a.append(num)\n",
    "print(a)\n",
    "\n",
    "sum=0\n",
    "for i in a:\n",
    "    sum=sum+i\n",
    "print(sum)\n",
    "\n",
    "average=sum/5\n",
    "print(average)\n"
   ]
  },
  {
   "cell_type": "code",
   "execution_count": 1,
   "metadata": {},
   "outputs": [
    {
     "name": "stdout",
     "output_type": "stream",
     "text": [
      "print n numbers:\n",
      "[1, 2, 3, 4, 5]\n",
      "15\n"
     ]
    }
   ],
   "source": [
    "n=int(input(\"enter the value of n\"))\n",
    "a=[]\n",
    "print(\"print n numbers:\")\n",
    "for i in range(n):\n",
    "    a.append(i+1)\n",
    "print(a)\n",
    "\n",
    "sum=0\n",
    "for i in a:\n",
    "    sum=sum+i\n",
    "print(sum)"
   ]
  },
  {
   "cell_type": "code",
   "execution_count": 2,
   "metadata": {},
   "outputs": [
    {
     "name": "stdout",
     "output_type": "stream",
     "text": [
      "number is  1 and the cube of the  1 is : 1\n",
      "number is  2 and the cube of the  2 is : 8\n",
      "number is  3 and the cube of the  3 is : 27\n",
      "number is  4 and the cube of the  4 is : 64\n"
     ]
    }
   ],
   "source": [
    "n=int(input(\"enter the value of n\"))\n",
    "m=[]\n",
    "for i in range(n):\n",
    "    m.append(i+1)\n",
    "    print(\"number is \",(i+1) ,\"and the cube of the \",(i+1) ,\"is :\",((i+1)*(i+1)*(i+1)))"
   ]
  }
 ],
 "metadata": {
  "kernelspec": {
   "display_name": "Python 3",
   "language": "python",
   "name": "python3"
  },
  "language_info": {
   "codemirror_mode": {
    "name": "ipython",
    "version": 3
   },
   "file_extension": ".py",
   "mimetype": "text/x-python",
   "name": "python",
   "nbconvert_exporter": "python",
   "pygments_lexer": "ipython3",
   "version": "3.13.1"
  },
  "orig_nbformat": 4
 },
 "nbformat": 4,
 "nbformat_minor": 2
}
