{
 "cells": [
  {
   "cell_type": "code",
   "execution_count": 2,
   "metadata": {},
   "outputs": [
    {
     "ename": "AttributeError",
     "evalue": "'son' object has no attribute 'phone'",
     "output_type": "error",
     "traceback": [
      "\u001b[1;31m---------------------------------------------------------------------------\u001b[0m",
      "\u001b[1;31mAttributeError\u001b[0m                            Traceback (most recent call last)",
      "Cell \u001b[1;32mIn[2], line 10\u001b[0m\n\u001b[0;32m      7\u001b[0m         \u001b[39mprint\u001b[39m(\u001b[39m\"\u001b[39m\u001b[39mson\u001b[39m\u001b[39m'\u001b[39m\u001b[39ms laptop\u001b[39m\u001b[39m\"\u001b[39m)\n\u001b[0;32m      9\u001b[0m ram\u001b[39m=\u001b[39mson()\n\u001b[1;32m---> 10\u001b[0m ram\u001b[39m.\u001b[39;49mphone()\n",
      "\u001b[1;31mAttributeError\u001b[0m: 'son' object has no attribute 'phone'"
     ]
    }
   ],
   "source": [
    "class dad():\n",
    "    def phone(self):\n",
    "        print(\"dad's phone\")\n",
    "    \n",
    "class son():\n",
    "    def laptop(self):\n",
    "        print(\"son's laptop\")\n",
    "\n",
    "ram=son()\n",
    "ram.phone()"
   ]
  },
  {
   "cell_type": "code",
   "execution_count": 3,
   "metadata": {},
   "outputs": [
    {
     "name": "stdout",
     "output_type": "stream",
     "text": [
      "dad's phone\n"
     ]
    }
   ],
   "source": [
    "class dad():\n",
    "    def phone(self):\n",
    "        print(\"dad's phone\")\n",
    "    \n",
    "class son(dad):\n",
    "    def laptop(self):\n",
    "        print(\"son's laptop\")\n",
    "\n",
    "ram=son()\n",
    "ram.phone()"
   ]
  },
  {
   "cell_type": "code",
   "execution_count": 6,
   "metadata": {},
   "outputs": [
    {
     "name": "stdout",
     "output_type": "stream",
     "text": [
      "dad's phone\n",
      "mom's sweet\n"
     ]
    }
   ],
   "source": [
    "class dad():\n",
    "    def phone(self):\n",
    "        print(\"dad's phone\")\n",
    "\n",
    "class mom():\n",
    "    def sweet(self):\n",
    "        print(\"mom's sweet\")\n",
    "    \n",
    "class son(dad,mom):\n",
    "    def laptop(self):\n",
    "        print(\"son's laptop\")\n",
    "\n",
    "ram=son()\n",
    "ram.phone()\n",
    "ram.sweet()"
   ]
  },
  {
   "cell_type": "code",
   "execution_count": 5,
   "metadata": {},
   "outputs": [
    {
     "name": "stdout",
     "output_type": "stream",
     "text": [
      "sons laptop\n",
      "dad's money\n",
      "grandpa's phone\n",
      "grandpa's phone\n"
     ]
    }
   ],
   "source": [
    "class grandpa:\n",
    "    def phone(self):\n",
    "        print(\"grandpa's phone\")\n",
    "\n",
    "class dad(grandpa):\n",
    "    def money(self):\n",
    "        print(\"dad's money\")\n",
    "\n",
    "class son(dad):\n",
    "    def laptop(self):\n",
    "        print(\"sons laptop\")\n",
    "\n",
    "ram = son()\n",
    "ram.laptop()\n",
    "ram.money()\n",
    "ram.phone()\n",
    "\n",
    "d1=dad()\n",
    "d1.phone()"
   ]
  },
  {
   "cell_type": "code",
   "execution_count": 7,
   "metadata": {},
   "outputs": [
    {
     "name": "stdout",
     "output_type": "stream",
     "text": [
      "dad's money\n"
     ]
    }
   ],
   "source": [
    "class dad():\n",
    "    def money(self):\n",
    "        print(\"dad's money\")\n",
    "\n",
    "class son1(dad):\n",
    "    pass\n",
    "\n",
    "class son2(dad):\n",
    "    pass\n",
    "\n",
    "class son3(dad):\n",
    "    pass\n",
    "\n",
    "s2=son2()\n",
    "s2.money()"
   ]
  },
  {
   "cell_type": "code",
   "execution_count": 10,
   "metadata": {},
   "outputs": [
    {
     "name": "stdout",
     "output_type": "stream",
     "text": [
      "dad's money\n"
     ]
    },
    {
     "ename": "TypeError",
     "evalue": "land.important() missing 1 required positional argument: 'self'",
     "output_type": "error",
     "traceback": [
      "\u001b[1;31m---------------------------------------------------------------------------\u001b[0m",
      "\u001b[1;31mTypeError\u001b[0m                                 Traceback (most recent call last)",
      "Cell \u001b[1;32mIn[10], line 22\u001b[0m\n\u001b[0;32m     19\u001b[0m s2\u001b[39m.\u001b[39mmoney()\n\u001b[0;32m     21\u001b[0m s1\u001b[39m=\u001b[39mson1\n\u001b[1;32m---> 22\u001b[0m s1\u001b[39m.\u001b[39;49mimportant()\n",
      "\u001b[1;31mTypeError\u001b[0m: land.important() missing 1 required positional argument: 'self'"
     ]
    }
   ],
   "source": [
    "class dad():\n",
    "    def money(self):\n",
    "        print(\"dad's money\")\n",
    "\n",
    "class land():\n",
    "    def important(self):\n",
    "        print(\"important land\")\n",
    "\n",
    "class son1(dad,land):\n",
    "    pass\n",
    "\n",
    "class son2(dad):\n",
    "    pass\n",
    "\n",
    "class son3(dad):\n",
    "    pass\n",
    "\n",
    "s2=son2()\n",
    "s2.money()\n",
    "\n",
    "s1=son1\n",
    "s1.important()"
   ]
  }
 ],
 "metadata": {
  "kernelspec": {
   "display_name": "Python 3",
   "language": "python",
   "name": "python3"
  },
  "language_info": {
   "codemirror_mode": {
    "name": "ipython",
    "version": 3
   },
   "file_extension": ".py",
   "mimetype": "text/x-python",
   "name": "python",
   "nbconvert_exporter": "python",
   "pygments_lexer": "ipython3",
   "version": "3.13.1"
  },
  "orig_nbformat": 4
 },
 "nbformat": 4,
 "nbformat_minor": 2
}
