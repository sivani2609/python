{
 "cells": [
  {
   "cell_type": "code",
   "execution_count": 8,
   "metadata": {},
   "outputs": [
    {
     "name": "stdout",
     "output_type": "stream",
     "text": [
      "200\n"
     ]
    }
   ],
   "source": [
    "class shape():\n",
    "    def area(self):\n",
    "        return 0\n",
    "    \n",
    "class rectangle(shape):\n",
    "    def area(self):\n",
    "        l=10\n",
    "        b=20\n",
    "        print(l*b)\n",
    "    \n",
    "r1=rectangle()\n",
    "r1.area()"
   ]
  },
  {
   "cell_type": "code",
   "execution_count": 18,
   "metadata": {},
   "outputs": [
    {
     "name": "stdout",
     "output_type": "stream",
     "text": [
      "abhi\n",
      "A\n"
     ]
    }
   ],
   "source": [
    "class person():\n",
    "    def __init__(self,name):\n",
    "        self.name=name\n",
    "\n",
    "class student(person):\n",
    "    def __init__(self,name,grade):\n",
    "        super().__init__(name)\n",
    "        self.grade=grade\n",
    "    \n",
    "    def display(self):\n",
    "        print(self.name)\n",
    "        print(self.grade)\n",
    "\n",
    "s1=student(\"abhi\",\"A\")\n",
    "s1.display()\n",
    " "
   ]
  },
  {
   "cell_type": "code",
   "execution_count": 29,
   "metadata": {},
   "outputs": [
    {
     "name": "stdout",
     "output_type": "stream",
     "text": [
      "car started\n",
      "vehicle started\n"
     ]
    }
   ],
   "source": [
    "class vehicle:\n",
    "    def start():\n",
    "        print(\"vehicle started\")\n",
    "\n",
    "class car(vehicle):\n",
    "    def start():\n",
    "        print(\"car started\")\n",
    "\n",
    "a=car\n",
    "b=vehicle\n",
    "a.start()\n",
    "b.start()\n"
   ]
  },
  {
   "cell_type": "code",
   "execution_count": 29,
   "metadata": {},
   "outputs": [
    {
     "name": "stdout",
     "output_type": "stream",
     "text": [
      "abhi 45577 it\n"
     ]
    }
   ],
   "source": [
    "class employee():\n",
    "    def __init__(self,name,salary):\n",
    "        self.name=name\n",
    "        self.salary=salary\n",
    "\n",
    "class manager(employee):\n",
    "    def __init__(self, name, salary,department):\n",
    "        super().__init__(name, salary)\n",
    "        self.department= department\n",
    "\n",
    "    def display(self):\n",
    "        print(self.name,self.salary,self.department)\n",
    "\n",
    "m1=manager(\"abhi\",\"45577\",\"it\")\n",
    "m1.display()\n"
   ]
  },
  {
   "cell_type": "code",
   "execution_count": 16,
   "metadata": {},
   "outputs": [
    {
     "ename": "TypeError",
     "evalue": "student() takes no arguments",
     "output_type": "error",
     "traceback": [
      "\u001b[1;31m---------------------------------------------------------------------------\u001b[0m",
      "\u001b[1;31mTypeError\u001b[0m                                 Traceback (most recent call last)",
      "Cell \u001b[1;32mIn[16], line 13\u001b[0m\n\u001b[0;32m     11\u001b[0m         \u001b[39mprint\u001b[39m(\u001b[39m\"\u001b[39m\u001b[39mName:\u001b[39m\u001b[39m\"\u001b[39m,\u001b[39mself\u001b[39m\u001b[39m.\u001b[39mname)\n\u001b[0;32m     12\u001b[0m         \u001b[39mprint\u001b[39m(\u001b[39m\"\u001b[39m\u001b[39mGrade:\u001b[39m\u001b[39m\"\u001b[39m,\u001b[39mself\u001b[39m\u001b[39m.\u001b[39mgrade)       \n\u001b[1;32m---> 13\u001b[0m p1\u001b[39m=\u001b[39mstudent(\u001b[39m\"\u001b[39;49m\u001b[39mJohn\u001b[39;49m\u001b[39m\"\u001b[39;49m,\u001b[39m\"\u001b[39;49m\u001b[39mA\u001b[39;49m\u001b[39m\"\u001b[39;49m)\n\u001b[0;32m     14\u001b[0m p1\u001b[39m.\u001b[39mdisplay()\n",
      "\u001b[1;31mTypeError\u001b[0m: student() takes no arguments"
     ]
    }
   ],
   "source": [
    "#lec_24 ex 2\n",
    "class person():\n",
    "    def _init_(self,name): #takes name as parameter\n",
    "        self.name=name\n",
    "    \n",
    "class student(person):\n",
    "    def _init_(self,name,grade):\n",
    "        super(). _init_(name)\n",
    "        self.grade=grade\n",
    "    def display(self):\n",
    "        print(\"Name:\",self.name)\n",
    "        print(\"Grade:\",self.grade)       \n",
    "p1=student(\"John\",\"A\")\n",
    "p1.display()"
   ]
  }
 ],
 "metadata": {
  "kernelspec": {
   "display_name": "Python 3",
   "language": "python",
   "name": "python3"
  },
  "language_info": {
   "codemirror_mode": {
    "name": "ipython",
    "version": 3
   },
   "file_extension": ".py",
   "mimetype": "text/x-python",
   "name": "python",
   "nbconvert_exporter": "python",
   "pygments_lexer": "ipython3",
   "version": "3.13.1"
  },
  "orig_nbformat": 4
 },
 "nbformat": 4,
 "nbformat_minor": 2
}
