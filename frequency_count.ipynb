{
 "cells": [
  {
   "cell_type": "code",
   "execution_count": null,
   "id": "41f3fee4",
   "metadata": {},
   "outputs": [],
   "source": [
    "arr = [50, 20, 150, 20, 50, 10, 30, 10, 10]\n",
    "n = len(arr)\n",
    "\n",
    "# Step 1: Count frequency using a dictionary\n",
    "freq = {}\n",
    "for num in arr:\n",
    "    freq[num] = freq.get(num, 0) + 1\n",
    "\n",
    "# Step 2: Sort by frequency in descending order\n",
    "sorted_freq = sorted(freq.items(), key=lambda x: x[1], reverse=True)\n",
    "\n",
    "# Step 3: Print result\n",
    "for num, count in sorted_freq:\n",
    "    print(f\"{num} -- {count}\")\n"
   ]
  }
 ],
 "metadata": {
  "language_info": {
   "name": "python"
  }
 },
 "nbformat": 4,
 "nbformat_minor": 5
}
