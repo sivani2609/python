{
 "cells": [
  {
   "cell_type": "code",
   "execution_count": null,
   "id": "036d9745",
   "metadata": {},
   "outputs": [],
   "source": [
    "n = int(input(\"Enter the number: \"))\n",
    "for i in range(1, n):\n",
    "    if n % i == 0:\n",
    "        print(i)\n"
   ]
  }
 ],
 "metadata": {
  "language_info": {
   "name": "python"
  }
 },
 "nbformat": 4,
 "nbformat_minor": 5
}
