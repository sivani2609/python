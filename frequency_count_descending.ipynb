{
 "cells": [
  {
   "cell_type": "code",
   "execution_count": null,
   "id": "01cee659",
   "metadata": {},
   "outputs": [],
   "source": [
    "arr = [50, 20, 150, 20, 50, 10, 30, 10, 10]\n",
    "\n",
    "uniq = []\n",
    "freq = []\n",
    "\n",
    "visited = [False] * len(arr)\n",
    "\n",
    "for i in range(len(arr)):\n",
    "    if visited[i]:\n",
    "        continue\n",
    "    count = 1\n",
    "    for j in range(i + 1, len(arr)):\n",
    "        if arr[i] == arr[j]:\n",
    "            count += 1\n",
    "            visited[j] = True\n",
    "    uniq.append(arr[i])\n",
    "    freq.append(count)\n",
    "\n",
    "# Sort by number (uniq) in descending order\n",
    "for i in range(len(uniq) - 1):\n",
    "    for j in range(i + 1, len(uniq)):\n",
    "        if uniq[i] < uniq[j]:\n",
    "            uniq[i], uniq[j] = uniq[j], uniq[i]\n",
    "            freq[i], freq[j] = freq[j], freq[i]\n",
    "\n",
    "# Print result\n",
    "for i in range(len(uniq)):\n",
    "    print(f\"{uniq[i]}--{freq[i]}\")\n"
   ]
  }
 ],
 "metadata": {
  "language_info": {
   "name": "python"
  }
 },
 "nbformat": 4,
 "nbformat_minor": 5
}
