{
 "cells": [
  {
   "cell_type": "code",
   "execution_count": 6,
   "metadata": {},
   "outputs": [
    {
     "name": "stdout",
     "output_type": "stream",
     "text": [
      "google\n"
     ]
    }
   ],
   "source": [
    "class company():\n",
    "    def __init__(self):\n",
    "        self.__companyname = \"google\"\n",
    "\n",
    "    def companyname(self):\n",
    "        print(self.__companyname)\n",
    "\n",
    "c1=company()\n",
    "c1.companyname()\n"
   ]
  },
  {
   "cell_type": "code",
   "execution_count": 10,
   "metadata": {},
   "outputs": [
    {
     "ename": "AttributeError",
     "evalue": "'company' object has no attribute 'companyname'",
     "output_type": "error",
     "traceback": [
      "\u001b[1;31m---------------------------------------------------------------------------\u001b[0m",
      "\u001b[1;31mAttributeError\u001b[0m                            Traceback (most recent call last)",
      "Cell \u001b[1;32mIn[10], line 8\u001b[0m\n\u001b[0;32m      6\u001b[0m     \u001b[39mpass\u001b[39;00m\n\u001b[0;32m      7\u001b[0m b1\u001b[39m=\u001b[39mcompany()\n\u001b[1;32m----> 8\u001b[0m \u001b[39mprint\u001b[39m(b1\u001b[39m.\u001b[39;49mcompanyname)\n",
      "\u001b[1;31mAttributeError\u001b[0m: 'company' object has no attribute 'companyname'"
     ]
    }
   ],
   "source": [
    "class company():\n",
    "    def __init__(self):\n",
    "        self._companyname = \"google\"\n",
    "\n",
    "class b(company):\n",
    "    pass\n",
    "b1=company()\n",
    "print(b1.companyname)\n"
   ]
  }
 ],
 "metadata": {
  "kernelspec": {
   "display_name": "Python 3",
   "language": "python",
   "name": "python3"
  },
  "language_info": {
   "codemirror_mode": {
    "name": "ipython",
    "version": 3
   },
   "file_extension": ".py",
   "mimetype": "text/x-python",
   "name": "python",
   "nbconvert_exporter": "python",
   "pygments_lexer": "ipython3",
   "version": "3.13.1"
  },
  "orig_nbformat": 4
 },
 "nbformat": 4,
 "nbformat_minor": 2
}
