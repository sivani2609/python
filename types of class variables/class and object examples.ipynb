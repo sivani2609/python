{
 "cells": [
  {
   "cell_type": "code",
   "execution_count": 4,
   "metadata": {},
   "outputs": [
    {
     "name": "stdout",
     "output_type": "stream",
     "text": [
      "abhi\n",
      "89\n",
      "name:: abhi\n",
      "regno: 89\n"
     ]
    }
   ],
   "source": [
    "class student:\n",
    "    def __init__(self):\n",
    "        self.name=\"abhi\"\n",
    "        self.reg_no=\"89\"\n",
    "    def display(self):\n",
    "        print(\"name::\",self.name)\n",
    "        print(\"regno:\",self.reg_no)\n",
    "\n",
    "s1=student()\n",
    "print(s1.name)\n",
    "print(s1.reg_no)\n",
    "s1.display()\n",
    "        "
   ]
  },
  {
   "cell_type": "code",
   "execution_count": 10,
   "metadata": {},
   "outputs": [
    {
     "name": "stdout",
     "output_type": "stream",
     "text": [
      "red\n"
     ]
    }
   ],
   "source": [
    "class fruit:\n",
    "    def __init__(self,col):\n",
    "        self.color=col\n",
    "\n",
    "apple = fruit(\"red\")\n",
    "print(apple.color)"
   ]
  },
  {
   "cell_type": "code",
   "execution_count": 3,
   "metadata": {},
   "outputs": [
    {
     "ename": "TypeError",
     "evalue": "fruit.__init__() takes 1 positional argument but 2 were given",
     "output_type": "error",
     "traceback": [
      "\u001b[1;31m---------------------------------------------------------------------------\u001b[0m",
      "\u001b[1;31mTypeError\u001b[0m                                 Traceback (most recent call last)",
      "Cell \u001b[1;32mIn[3], line 5\u001b[0m\n\u001b[0;32m      2\u001b[0m     \u001b[39mdef\u001b[39;00m \u001b[39m__init__\u001b[39m(\u001b[39mself\u001b[39m):\n\u001b[0;32m      3\u001b[0m         \u001b[39mself\u001b[39m\u001b[39m.\u001b[39mcolor\u001b[39m=\u001b[39m\u001b[39m\"\u001b[39m\u001b[39mblack\u001b[39m\u001b[39m\"\u001b[39m\n\u001b[1;32m----> 5\u001b[0m apple \u001b[39m=\u001b[39m fruit(\u001b[39m5\u001b[39;49m)\n\u001b[0;32m      6\u001b[0m \u001b[39mprint\u001b[39m(apple\u001b[39m.\u001b[39mcolor)\n",
      "\u001b[1;31mTypeError\u001b[0m: fruit.__init__() takes 1 positional argument but 2 were given"
     ]
    }
   ],
   "source": [
    "class fruit:\n",
    "    def __init__(self):\n",
    "        self.color=\"black\"\n",
    "\n",
    "apple = fruit(5)\n",
    "print(apple.color)"
   ]
  },
  {
   "cell_type": "code",
   "execution_count": 16,
   "metadata": {},
   "outputs": [
    {
     "name": "stdout",
     "output_type": "stream",
     "text": [
      "name: abhi\n",
      "regno: 1\n",
      "name: harsh\n",
      "regno: 2\n"
     ]
    }
   ],
   "source": [
    "class teacher:\n",
    "    def __init__(self,name,reg):\n",
    "        self.name=name\n",
    "        self.regno=reg\n",
    "    def display(self):\n",
    "        print(\"name:\",self.name)\n",
    "        print(\"regno:\",self.regno)\n",
    "\n",
    "t1=teacher(\"abhi\",\"1\")\n",
    "t2=teacher(\"harsh\",\"2\")\n",
    "\n",
    "t1.display()\n",
    "t2.display()"
   ]
  },
  {
   "cell_type": "code",
   "execution_count": 5,
   "metadata": {},
   "outputs": [
    {
     "name": "stdout",
     "output_type": "stream",
     "text": [
      "add: 12\n",
      "sub: 8\n",
      "mul: 20\n",
      "div: 5.0\n"
     ]
    }
   ],
   "source": [
    "class calculator:\n",
    "    def __init__(self,a,b):\n",
    "        self.num1=a\n",
    "        self.num2=b\n",
    "    def add(self):\n",
    "        print(\"add:\",(self.num1 + self.num2))\n",
    "    def sub(self):\n",
    "        print(\"sub:\",(self.num1 - self.num2))\n",
    "    def mul(self):\n",
    "        print(\"mul:\",(self.num1 * self.num2))\n",
    "    def div(self):\n",
    "        print(\"div:\",(self.num1 / self.num2))\n",
    "\n",
    "obj1=calculator(10,2)\n",
    "obj1.add()\n",
    "obj1.sub()\n",
    "obj1.mul()\n",
    "obj1.div() "
   ]
  },
  {
   "cell_type": "code",
   "execution_count": null,
   "metadata": {},
   "outputs": [],
   "source": []
  }
 ],
 "metadata": {
  "kernelspec": {
   "display_name": "Python 3",
   "language": "python",
   "name": "python3"
  },
  "language_info": {
   "codemirror_mode": {
    "name": "ipython",
    "version": 3
   },
   "file_extension": ".py",
   "mimetype": "text/x-python",
   "name": "python",
   "nbconvert_exporter": "python",
   "pygments_lexer": "ipython3",
   "version": "3.13.1"
  },
  "orig_nbformat": 4
 },
 "nbformat": 4,
 "nbformat_minor": 2
}
