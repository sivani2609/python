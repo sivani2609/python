{
 "cells": [
  {
   "cell_type": "code",
   "execution_count": null,
   "id": "9c4b2159",
   "metadata": {},
   "outputs": [],
   "source": [
    "arr = [1, 1, 2, 2, 3, 4, 4, 5]\n",
    "temp = []\n",
    "for i in range(len(arr) - 1):\n",
    "    if arr[i] != arr[i + 1]:\n",
    "        temp.append(arr[i])\n",
    "temp.append(arr[-1])  # Add the last element\n",
    "\n",
    "# Print the result\n",
    "print(temp)\n"
   ]
  }
 ],
 "metadata": {
  "language_info": {
   "name": "python"
  }
 },
 "nbformat": 4,
 "nbformat_minor": 5
}
