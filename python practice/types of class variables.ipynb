{
 "cells": [
  {
   "cell_type": "code",
   "execution_count": 9,
   "metadata": {},
   "outputs": [
    {
     "name": "stdout",
     "output_type": "stream",
     "text": [
      "Brand: samsung\n",
      "price: 10000\n",
      "chargertype b-type\n"
     ]
    }
   ],
   "source": [
    "class phone():\n",
    "    def __init__(self,brand,price,chargertype):\n",
    "        self.brand=brand\n",
    "        self.price=price\n",
    "        self.chargertype=chargertype\n",
    "    def display(self):\n",
    "        print(\"Brand:\",self.brand)\n",
    "        print(\"price:\",self.price)\n",
    "        print(\"chargertype:\",self.chargertype)\n",
    "\n",
    "samsung = phone(\"samsung\",\"10000\",\"b-type\")\n",
    "samsung.display()"
   ]
  },
  {
   "cell_type": "code",
   "execution_count": 28,
   "metadata": {},
   "outputs": [
    {
     "name": "stdout",
     "output_type": "stream",
     "text": [
      "Brand: samsung\n",
      "price: 10000\n",
      "chargertype: b-type\n",
      "Brand: redmi\n",
      "price: 50000\n",
      "chargertype: b-type\n"
     ]
    }
   ],
   "source": [
    "class phone():\n",
    "    chargertype=\"c-type\"\n",
    "    def __init__(self,brand,price):\n",
    "        self.brand=brand\n",
    "        self.price=price\n",
    "    def display(self):\n",
    "        print(\"Brand:\",self.brand)\n",
    "        print(\"price:\",self.price)\n",
    "        print(\"chargertype:\",self.chargertype)\n",
    "\n",
    "phone.chargertype=\"b-type\"\n",
    "samsung = phone(\"samsung\",\"10000\")\n",
    "samsung.display()\n",
    "\n",
    "redmi = phone(\"redmi\",\"50000\")\n",
    "redmi.display()"
   ]
  }
 ],
 "metadata": {
  "kernelspec": {
   "display_name": "Python 3",
   "language": "python",
   "name": "python3"
  },
  "language_info": {
   "codemirror_mode": {
    "name": "ipython",
    "version": 3
   },
   "file_extension": ".py",
   "mimetype": "text/x-python",
   "name": "python",
   "nbconvert_exporter": "python",
   "pygments_lexer": "ipython3",
   "version": "3.13.1"
  },
  "orig_nbformat": 4
 },
 "nbformat": 4,
 "nbformat_minor": 2
}
