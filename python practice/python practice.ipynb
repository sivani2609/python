{
 "cells": [
  {
   "cell_type": "code",
   "execution_count": 1,
   "metadata": {},
   "outputs": [],
   "source": [
    "\"1.positive or negative number\"\n",
    "num = int(input())\n",
    "if(num>=0):\n",
    "    print(num, \"is a postive number\")\n",
    "else:\n",
    "    print(num, \"is a negative number\")"
   ]
  },
  {
   "cell_type": "code",
   "execution_count": null,
   "metadata": {},
   "outputs": [
    {
     "name": "stdout",
     "output_type": "stream",
     "text": [
      "79 is a odd number\n"
     ]
    }
   ],
   "source": [
    "\"2.even or odd number\"\n",
    "num = int(input())\n",
    "if(num%2 ==0):\n",
    "    print(num, \"is a even number\")\n",
    "else:\n",
    "    print(num, \"is a odd number\")"
   ]
  },
  {
   "cell_type": "code",
   "execution_count": null,
   "metadata": {},
   "outputs": [
    {
     "name": "stdout",
     "output_type": "stream",
     "text": [
      "15\n"
     ]
    }
   ],
   "source": [
    "\"3,4...sum of first n natural numbers and sum of n natural numbers\"\n",
    "num = int(input())\n",
    "sum = 0 \n",
    "for i in range(1,num+1):\n",
    "    sum += i\n",
    "print(sum)\n",
    "    "
   ]
  },
  {
   "cell_type": "code",
   "execution_count": null,
   "metadata": {},
   "outputs": [
    {
     "name": "stdout",
     "output_type": "stream",
     "text": [
      "35\n"
     ]
    }
   ],
   "source": [
    "\"5.sum of numbers in a given range\"\n",
    "a = int(input())\n",
    "b = int(input())\n",
    "sum = 0 \n",
    "for i in range(a,b+1):\n",
    "    sum += i\n",
    "print(sum)"
   ]
  },
  {
   "cell_type": "code",
   "execution_count": null,
   "metadata": {},
   "outputs": [
    {
     "name": "stdout",
     "output_type": "stream",
     "text": [
      "12 is a greatest number\n"
     ]
    }
   ],
   "source": [
    "\"6.greatest of three numbers\"\n",
    "a = int(input(\"enter the first number:\"))\n",
    "b = int(input(\"enter the second number:\"))\n",
    "if(a>b):\n",
    "    print(a,\"is a greatest number\")\n",
    "else:\n",
    "    print(b,\"is a greatest number\")"
   ]
  },
  {
   "cell_type": "code",
   "execution_count": null,
   "metadata": {},
   "outputs": [
    {
     "name": "stdout",
     "output_type": "stream",
     "text": [
      "30 is a greatest number\n"
     ]
    }
   ],
   "source": [
    "\"7.gretest of 3 digits\"\n",
    "a = int(input(\"enter the first number:\"))\n",
    "b = int(input(\"enter the second number:\"))\n",
    "c = int(input(\"enter the third number:\"))\n",
    "if(a>b and a>c):\n",
    "    print(a,\"is a greatest number\")\n",
    "elif(b>a and b>c):\n",
    "    print(b,\"is a greatest number\")\n",
    "else:\n",
    "    print(c,\"is a greatest number\")"
   ]
  },
  {
   "cell_type": "code",
   "execution_count": null,
   "metadata": {},
   "outputs": [
    {
     "name": "stdout",
     "output_type": "stream",
     "text": [
      "it is not a leap year\n"
     ]
    }
   ],
   "source": [
    "\"8.to find the year is leap or not\"\n",
    "year = int(input(\"enter the number:\"))\n",
    "if((year%400 ==0)) or ((year%4 == 0) and (year%100 == 0)):\n",
    "    print(\"it is a leap year\")\n",
    "else:\n",
    "     print(\"it is not a leap year\")\n"
   ]
  },
  {
   "cell_type": "code",
   "execution_count": 3,
   "metadata": {},
   "outputs": [
    {
     "name": "stdout",
     "output_type": "stream",
     "text": [
      "Prime\n"
     ]
    }
   ],
   "source": [
    "\"9.to find the number is prime or not\"\n",
    "num = int(input(\"enter the number\"))\n",
    "flag = 0\n",
    "for i in range(2,num):\n",
    "  if num%i==0:\n",
    "    flag = 1\n",
    "    break\n",
    "if flag == 1:\n",
    "  print('Not Prime')\n",
    "else:\n",
    "  print(\"Prime\")"
   ]
  }
 ],
 "metadata": {
  "kernelspec": {
   "display_name": "Python 3",
   "language": "python",
   "name": "python3"
  },
  "language_info": {
   "codemirror_mode": {
    "name": "ipython",
    "version": 3
   },
   "file_extension": ".py",
   "mimetype": "text/x-python",
   "name": "python",
   "nbconvert_exporter": "python",
   "pygments_lexer": "ipython3",
   "version": "3.13.1"
  },
  "orig_nbformat": 4
 },
 "nbformat": 4,
 "nbformat_minor": 2
}
