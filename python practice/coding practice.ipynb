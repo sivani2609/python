{
 "cells": [
  {
   "cell_type": "code",
   "execution_count": 2,
   "metadata": {},
   "outputs": [
    {
     "name": "stdout",
     "output_type": "stream",
     "text": [
      "2002,2009,2016,2023,2037,2044,2051,2058,2072,2079,2086,2093,2107,2114,2121,2128,2142,2149,2156,2163,2177,2184,2191,2198,2212,2219,2226,2233,2247,2254,2261,2268,2282,2289,2296,2303,2317,2324,2331,2338,2352,2359,2366,2373,2387,2394,2401,2408,2422,2429,2436,2443,2457,2464,2471,2478,2492,2499,2506,2513,2527,2534,2541,2548,2562,2569,2576,2583,2597,2604,2611,2618,2632,2639,2646,2653,2667,2674,2681,2688,2702,2709,2716,2723,2737,2744,2751,2758,2772,2779,2786,2793,2807,2814,2821,2828,2842,2849,2856,2863,2877,2884,2891,2898,2912,2919,2926,2933,2947,2954,2961,2968,2982,2989,2996,3003,3017,3024,3031,3038,3052,3059,3066,3073,3087,3094,3101,3108,3122,3129,3136,3143,3157,3164,3171,3178,3192,3199\n"
     ]
    }
   ],
   "source": [
    "#Day1\n",
    "result = []\n",
    "for i in range(2000,3201):\n",
    "    if(i%7==0 and not(i%5==0)):\n",
    "        result.append(str(i))\n",
    "print(\",\".join(result))"
   ]
  },
  {
   "cell_type": "code",
   "execution_count": 10,
   "metadata": {},
   "outputs": [
    {
     "name": "stdout",
     "output_type": "stream",
     "text": [
      "40320\n"
     ]
    }
   ],
   "source": [
    "#Day2\n",
    "n= int(input())\n",
    "result =1\n",
    "for i in range(1,n+1):\n",
    "    result = result*i\n",
    "\n",
    "print(result)"
   ]
  },
  {
   "cell_type": "code",
   "execution_count": 9,
   "metadata": {},
   "outputs": [
    {
     "name": "stdout",
     "output_type": "stream",
     "text": [
      "{1: 1, 2: 2, 3: 3, 4: 4, 5: 5, 6: 6, 7: 7, 8: 8}\n"
     ]
    }
   ],
   "source": [
    "#Day3\n",
    "#with a given integer number n,write a program to generate a dictionary that contains(i,i*i)\n",
    "#input : 8\n",
    "#output :{1: 1, 2: 2, 3: 3, 4: 4, 5: 5, 6: 6, 7: 7, 8: 8}\n",
    "n = int(input(\"enter a number:\"))\n",
    "d={}\n",
    "i=1\n",
    "while(i<n+1):\n",
    "    d[i]=i*1\n",
    "    i+=1\n",
    "print(d)\n"
   ]
  },
  {
   "cell_type": "code",
   "execution_count": 10,
   "metadata": {},
   "outputs": [
    {
     "name": "stdout",
     "output_type": "stream",
     "text": [
      "ABHI\n"
     ]
    }
   ],
   "source": [
    "#Day4\n",
    "#define a class which has atleast 2 methods \n",
    "#   1.getstring : to get a string from console input\n",
    "#   2.printstring : to print the string in upper case\n",
    "#also please include simple test function to test the class methods\n",
    "class method():\n",
    "    def __init__(self):\n",
    "        self.name =\"\"\n",
    "    def getString(self):\n",
    "        self.name=input(\"enter the name:\")\n",
    "    def printString(self):\n",
    "        print(self.name.upper())\n",
    "obj=method()\n",
    "obj.getString()\n",
    "obj.printString()"
   ]
  },
  {
   "cell_type": "code",
   "execution_count": null,
   "metadata": {},
   "outputs": [],
   "source": []
  },
  {
   "cell_type": "code",
   "execution_count": null,
   "metadata": {},
   "outputs": [],
   "source": []
  },
  {
   "cell_type": "code",
   "execution_count": 6,
   "metadata": {},
   "outputs": [],
   "source": [
    "\"\"\"Day6\n",
    "program to accept a sequence of comma separated 4 digit numbers as its input and then \n",
    "check whether it is divisible by 5 or not.the numbers that are divisible by 5 are \n",
    "to be printed in a comma separated seq \"\"\"\n",
    "\n",
    "l = list(map(str,input(\"enter the num:\").split('.')))\n",
    "temp = []\n",
    "for i in l:\n",
    "    if(int(i,2)%5==0):\n",
    "        temp.append(i)\n",
    "print(\".\".join(temp))"
   ]
  },
  {
   "cell_type": "code",
   "execution_count": 5,
   "metadata": {},
   "outputs": [
    {
     "name": "stdout",
     "output_type": "stream",
     "text": [
      "1010,0101,1111\n"
     ]
    }
   ],
   "source": [
    "l=list(map(str,input(\"enter the number:\").split(\",\"))) # map- is used to convert the string and store in list\n",
    "temp=[] # store the divisible value in the list\n",
    "for i in l: \n",
    "    if(int(i,2)%5==0): #now convert the binary number into integer\n",
    "        temp.append(i)\n",
    "print(\",\".join(temp))"
   ]
  }
 ],
 "metadata": {
  "kernelspec": {
   "display_name": "Python 3",
   "language": "python",
   "name": "python3"
  },
  "language_info": {
   "codemirror_mode": {
    "name": "ipython",
    "version": 3
   },
   "file_extension": ".py",
   "mimetype": "text/x-python",
   "name": "python",
   "nbconvert_exporter": "python",
   "pygments_lexer": "ipython3",
   "version": "3.13.1"
  },
  "orig_nbformat": 4
 },
 "nbformat": 4,
 "nbformat_minor": 2
}
