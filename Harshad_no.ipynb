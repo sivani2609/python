{
 "cells": [
  {
   "cell_type": "code",
   "execution_count": null,
   "id": "d49a2856",
   "metadata": {},
   "outputs": [],
   "source": [
    "n = 163\n",
    "temp = n\n",
    "sum_digits = 0\n",
    "\n",
    "# Calculate sum of digits\n",
    "while n > 0:\n",
    "    digit = n % 10\n",
    "    sum_digits += digit\n",
    "    n //= 10\n",
    "\n",
    "# Check Harshad condition\n",
    "if temp % sum_digits == 0:\n",
    "    print(f\"{temp} is a Harshad Number\")\n",
    "else:\n",
    "    print(f\"{temp} is Not a Harshad Number\")\n"
   ]
  }
 ],
 "metadata": {
  "language_info": {
   "name": "python"
  }
 },
 "nbformat": 4,
 "nbformat_minor": 5
}
